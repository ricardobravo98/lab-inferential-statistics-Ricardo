{
 "cells": [
  {
   "cell_type": "markdown",
   "id": "e5106bfa",
   "metadata": {},
   "source": [
    "### Instructions\n",
    "It is assumed that the mean systolic blood pressure is μ = 120 mm Hg. In the Honolulu Heart Study, a sample of n = 100 people had an average systolic blood pressure of 130.1 mm Hg with a standard deviation of 21.21 mm Hg. Is the group significantly different (with respect to systolic blood pressure!) from the regular population?\n",
    "\n",
    "Set up the hypothesis test.\n",
    "Write down all the steps followed for setting up the test.\n",
    "Calculate the test statistic by hand and also code it in Python. It should be 4.76190. We will take a look at how to make decisions based on this calculated value.\n",
    "If you finished the previous question, please go through the code for principal_component_analysis_example provided in the files_for_lab folder ."
   ]
  },
  {
   "cell_type": "markdown",
   "id": "428fd41d",
   "metadata": {},
   "source": [
    "### First thing I did was define the variables"
   ]
  },
  {
   "cell_type": "code",
   "execution_count": 3,
   "id": "d858babe",
   "metadata": {},
   "outputs": [],
   "source": [
    "import math\n",
    "import scipy.stats\n",
    "\n",
    "pop_mean = 120\n",
    "n = 100\n",
    "sample_mean = 130.1\n",
    "sample_std = 21.21"
   ]
  },
  {
   "cell_type": "markdown",
   "id": "4f2fc158",
   "metadata": {},
   "source": [
    "### Setting up the hypothesis test\n",
    "Null hypothesis: The mean is 120mm Hg\n",
    "Alternative Hypothesis: The mean is not 120mm Hg\n",
    "\n",
    "As we are simply looking for a difference it is a two tailed test"
   ]
  },
  {
   "cell_type": "markdown",
   "id": "9b1b09a5",
   "metadata": {},
   "source": [
    "### Choosing Distribution\n",
    "Well, as we don´t have a very high amount of values, we would use a t-test"
   ]
  },
  {
   "cell_type": "markdown",
   "id": "ae21f727",
   "metadata": {},
   "source": [
    "### Set Confidence Interval\n",
    "As this is a medical test, I will asume a fairly high confidence interval  Alpha = 0,02"
   ]
  },
  {
   "cell_type": "markdown",
   "id": "47da6d41",
   "metadata": {},
   "source": [
    "### Calculate test statistic"
   ]
  },
  {
   "cell_type": "code",
   "execution_count": 4,
   "id": "30ef7dac",
   "metadata": {},
   "outputs": [
    {
     "data": {
      "text/plain": [
       "4.761904761904759"
      ]
     },
     "execution_count": 4,
     "metadata": {},
     "output_type": "execute_result"
    }
   ],
   "source": [
    "statistic = (sample_mean - pop_mean)/(sample_std/math.sqrt(n))\n",
    "statistic"
   ]
  },
  {
   "cell_type": "markdown",
   "id": "10a185bf",
   "metadata": {},
   "source": [
    "### Determine Critical Value"
   ]
  },
  {
   "cell_type": "code",
   "execution_count": 6,
   "id": "5ad3ad31",
   "metadata": {
    "scrolled": true
   },
   "outputs": [
    {
     "data": {
      "text/plain": [
       "2.3646058614359737"
      ]
     },
     "execution_count": 6,
     "metadata": {},
     "output_type": "execute_result"
    }
   ],
   "source": [
    "alpha = 0.02\n",
    "critical_value = scipy.stats.t.ppf(q=1-alpha/2,df=n-1)\n",
    "critical_value"
   ]
  },
  {
   "cell_type": "markdown",
   "id": "563ceb6a",
   "metadata": {},
   "source": [
    "### Determine conclusion"
   ]
  },
  {
   "cell_type": "code",
   "execution_count": 10,
   "id": "606fbb85",
   "metadata": {},
   "outputs": [
    {
     "name": "stdout",
     "output_type": "stream",
     "text": [
      "The blood pressure in the sample is enough to reconsider the mean blood stoic pressure\n"
     ]
    }
   ],
   "source": [
    "if statistic > critical_value:\n",
    "    print (\"The blood pressure in the sample is enough to reconsider the mean blood stoic pressure\")\n",
    "else:\n",
    "    print (\"Given the sample results, we cannot conclude anything new about the blood stoic pressure\")"
   ]
  }
 ],
 "metadata": {
  "kernelspec": {
   "display_name": "Python 3 (ipykernel)",
   "language": "python",
   "name": "python3"
  },
  "language_info": {
   "codemirror_mode": {
    "name": "ipython",
    "version": 3
   },
   "file_extension": ".py",
   "mimetype": "text/x-python",
   "name": "python",
   "nbconvert_exporter": "python",
   "pygments_lexer": "ipython3",
   "version": "3.10.9"
  }
 },
 "nbformat": 4,
 "nbformat_minor": 5
}
